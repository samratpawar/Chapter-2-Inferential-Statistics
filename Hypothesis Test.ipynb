{
 "cells": [
  {
   "cell_type": "code",
   "execution_count": 1,
   "metadata": {},
   "outputs": [],
   "source": [
    "#import the libraries\n",
    "import pandas as pd\n",
    "import scipy \n",
    "import numpy as np\n",
    "from scipy import stats"
   ]
  },
  {
   "cell_type": "markdown",
   "metadata": {},
   "source": [
    "# Super Market example"
   ]
  },
  {
   "cell_type": "raw",
   "metadata": {},
   "source": [
    "A super market plans to launch a loyalty program if it runs in an average spending per shopper of more than ''$120'  per week.\n",
    "\n",
    "A random Samples of 80 shoppers enrolled in the pilot program spent an average of '$130' in  a  week  with a standard deviation of '$40'.\n",
    "\n",
    "Should the Loyalty Program be launched ?"
   ]
  },
  {
   "cell_type": "code",
   "execution_count": 2,
   "metadata": {},
   "outputs": [
    {
     "data": {
      "text/plain": [
       "2.23606797749979"
      ]
     },
     "execution_count": 2,
     "metadata": {},
     "output_type": "execute_result"
    }
   ],
   "source": [
    "# Find t_value = (s_mean - p_mean)/(s_SD/sqrt(n))\n",
    "t_value=(130-120)/(40/np.sqrt(80))\n",
    "t_value"
   ]
  },
  {
   "cell_type": "code",
   "execution_count": 3,
   "metadata": {},
   "outputs": [
    {
     "data": {
      "text/plain": [
       "0.014084316277010789"
      ]
     },
     "execution_count": 3,
     "metadata": {},
     "output_type": "execute_result"
    }
   ],
   "source": [
    "# Find Probability P(X<t) (One-Tail Test value) so as to compare with Type-1 error α = 0.05\n",
    "p_value=1-stats.t.cdf(t_value,df=79)\n",
    "p_value"
   ]
  },
  {
   "cell_type": "code",
   "execution_count": null,
   "metadata": {},
   "outputs": [],
   "source": []
  },
  {
   "cell_type": "markdown",
   "metadata": {},
   "source": [
    "# Call Center example"
   ]
  },
  {
   "cell_type": "markdown",
   "metadata": {},
   "source": [
    "Performance of a call center is monitored by the average call duration.\n",
    "\n",
    "Data from 18 months shows that on the days process run normally.\n",
    "\n",
    "μ = 4 min , α = 3min\n",
    "\n",
    "cannot monitor each and every call due to limited resources , so randomly sample 50 calls per day.\n",
    "\n",
    "we already know that sample mean everyday will be different - inherent variability.\n",
    "\n",
    "But when should we alarmed and Conclude that the system is not behaving normally - external variability."
   ]
  },
  {
   "cell_type": "markdown",
   "metadata": {},
   "source": [
    "Sample Parameters: n=50, df=50-1=49, Mean1=4, SD1=3 1-sample 2-tail ttest Assume Null Hypothesis Ho as Mean1 = 4 Thus, Alternate Hypothesis Ha as Mean1 ≠ 4\n",
    "\n",
    "For Day 10, Mean2 = 4.6 from the data table. Find Probability P(X<t1)+P(X>t2) (Two-Tails Test values) so as to compare with Type-1 error α = 0.05\n",
    "\n",
    "For Day 15, Mean2 = 3.8 from the data table. Find Probability P(X<t1)+P(X>t2) (Two-Tails Test values) so as to compare with Type-1 error α = 0.05\n",
    "\n",
    "For Day 13, Mean2 = 4.0 from the data table. Find Probability P(X<t1)+P(X>t2) (Two-Tails Test values) so as to compare with Type-1 error α = 0.05"
   ]
  },
  {
   "cell_type": "code",
   "execution_count": 4,
   "metadata": {},
   "outputs": [],
   "source": [
    "import numpy as np\n",
    "import pandas as pd\n",
    "from scipy import stats\n",
    "from scipy.stats import norm"
   ]
  },
  {
   "cell_type": "code",
   "execution_count": 5,
   "metadata": {},
   "outputs": [
    {
     "data": {
      "text/plain": [
       "-1.4142135623730943"
      ]
     },
     "execution_count": 5,
     "metadata": {},
     "output_type": "execute_result"
    }
   ],
   "source": [
    "# For Day 10, Mean2 = 4.6 from the data table\n",
    "\n",
    "# Find t_value = (Mean1 - Mean2)/(SD1/sqrt(n))\n",
    "t_value1=(4-4.6)/(3/np.sqrt(50))\n",
    "t_value1"
   ]
  },
  {
   "cell_type": "code",
   "execution_count": 6,
   "metadata": {},
   "outputs": [
    {
     "data": {
      "text/plain": [
       "0.1636259782698421"
      ]
     },
     "execution_count": 6,
     "metadata": {},
     "output_type": "execute_result"
    }
   ],
   "source": [
    "# Find Probability P(X<t1)+P(X>t2) (Two-Tails Test values) so as to compare with Type-1 error α = 0.05\n",
    "p_value1=2*stats.t.cdf(-1.4142,df=49)\n",
    "p_value1"
   ]
  },
  {
   "cell_type": "code",
   "execution_count": 7,
   "metadata": {},
   "outputs": [
    {
     "data": {
      "text/plain": [
       "0.4714045207910321"
      ]
     },
     "execution_count": 7,
     "metadata": {},
     "output_type": "execute_result"
    }
   ],
   "source": [
    "# For Day 15, Mean2 = 3.8 from the data table\n",
    "\n",
    "# Find t_value = (Mean1 - Mean2)/(SD1/sqrt(n))\n",
    "t_value2=(4-3.8)/(3/np.sqrt(50))\n",
    "t_value2"
   ]
  },
  {
   "cell_type": "code",
   "execution_count": 8,
   "metadata": {},
   "outputs": [
    {
     "data": {
      "text/plain": [
       "0.640440149558531"
      ]
     },
     "execution_count": 8,
     "metadata": {},
     "output_type": "execute_result"
    }
   ],
   "source": [
    "# Find Probability P(X<t1)+P(X>t2) (Two-Tails Test values) so as to compare with Type-1 error α = 0.05\n",
    "p_value2=2*stats.t.cdf(-0.47,df=49)\n",
    "p_value2"
   ]
  },
  {
   "cell_type": "code",
   "execution_count": 9,
   "metadata": {},
   "outputs": [
    {
     "data": {
      "text/plain": [
       "0.6404401495585312"
      ]
     },
     "execution_count": 9,
     "metadata": {},
     "output_type": "execute_result"
    }
   ],
   "source": [
    "# OR\n",
    "p_value2=2*(1-stats.t.cdf(0.47,df=49))\n",
    "p_value2"
   ]
  },
  {
   "cell_type": "code",
   "execution_count": 10,
   "metadata": {},
   "outputs": [
    {
     "data": {
      "text/plain": [
       "0.0"
      ]
     },
     "execution_count": 10,
     "metadata": {},
     "output_type": "execute_result"
    }
   ],
   "source": [
    "# For Day 13, Mean2 = 4.0 from the data table\n",
    "\n",
    "# Find t_value = (Mean1 - Mean2)/(SD1/sqrt(n))\n",
    "t_value3=(4-4)/(3/np.sqrt(50))\n",
    "t_value3"
   ]
  },
  {
   "cell_type": "code",
   "execution_count": 11,
   "metadata": {},
   "outputs": [
    {
     "data": {
      "text/plain": [
       "1.0"
      ]
     },
     "execution_count": 11,
     "metadata": {},
     "output_type": "execute_result"
    }
   ],
   "source": [
    "# Find Probability P(X<t1)+P(X>t2) (Two-Tails Test values) so as to compare with Type-1 error α = 0.05\n",
    "p_value3=2*stats.t.cdf(-0,df=49)\n",
    "p_value3"
   ]
  },
  {
   "cell_type": "code",
   "execution_count": null,
   "metadata": {},
   "outputs": [],
   "source": []
  },
  {
   "cell_type": "markdown",
   "metadata": {},
   "source": [
    "# One Sample One tail test"
   ]
  },
  {
   "cell_type": "markdown",
   "metadata": {},
   "source": [
    "An Outbreak of Salmonella related illness was attributed to ice-cream produced at a certain factory. \n",
    "\n",
    "Scientists measured the level of Salmonella in 9 randomly sampled batch of Icecream.\n",
    "\n",
    "The levels in(MPN/g) were:\n",
    "    0.593,0.142,0.329,0.691,0.231,0.793,0.519,0.392,0.418\n",
    "     \n",
    "Is there any evidence that the mean level od Salmonella in the Icecream is Greater than 0.3 MPN/g ?     \n",
    "     "
   ]
  },
  {
   "cell_type": "markdown",
   "metadata": {},
   "source": [
    "1-sample 1-tail ttest Assume Null Hypothesis Ho as Mean Salmonella <= 0.3 Thus Alternate Hypothesis Ha as Mean Salmonella > 0.3\n",
    "\n",
    "As No direct code for 1-sample 1-tail ttest available with unknown SD and arrays of means. Hence we find probability using 1-sample 2-tail ttest and divide it by 2 to get 1-tail ttest\n",
    "\n",
    "Inference: Since (p_1t = 0.029) < (α = 0.05); Reject Null Hypothesis i.e Mean Salmonella > 0.3\n",
    "\n",
    "Ice-cream factory responsible for people illness.\n",
    "\n",
    "Note: This python code states both 1-sample 1-tail and 1-sample 2-tail codes"
   ]
  },
  {
   "cell_type": "code",
   "execution_count": null,
   "metadata": {},
   "outputs": [],
   "source": []
  },
  {
   "cell_type": "code",
   "execution_count": 12,
   "metadata": {},
   "outputs": [],
   "source": [
    "import pandas as pd\n",
    "import numpy as np\n",
    "from scipy import stats\n",
    "from scipy.stats import norm"
   ]
  },
  {
   "cell_type": "code",
   "execution_count": 13,
   "metadata": {},
   "outputs": [],
   "source": [
    "μ=0.3\n",
    "array=pd.Series([0.593,0.142,0.329,0.691,0.231,0.793,0.519,0.392,0.418])"
   ]
  },
  {
   "cell_type": "code",
   "execution_count": 14,
   "metadata": {},
   "outputs": [],
   "source": [
    "# As No direct code for 1-sample 1-tail ttest available with unknown SD and arrays of means\n",
    "# Hence we find probability using 1-sample 2-tail ttest and divide it by 2 to get 1-tail ttest"
   ]
  },
  {
   "cell_type": "code",
   "execution_count": 15,
   "metadata": {},
   "outputs": [
    {
     "data": {
      "text/plain": [
       "Ttest_1sampResult(statistic=2.2050588385131595, pvalue=0.05853032968489765)"
      ]
     },
     "execution_count": 15,
     "metadata": {},
     "output_type": "execute_result"
    }
   ],
   "source": [
    "# 1-sample 2-tail ttest:   stats.ttest_1samp(array,μ)   \n",
    "p_value=stats.ttest_1samp(array,0.3)\n",
    "p_value"
   ]
  },
  {
   "cell_type": "code",
   "execution_count": 16,
   "metadata": {},
   "outputs": [
    {
     "data": {
      "text/plain": [
       "0.05853032968489765"
      ]
     },
     "execution_count": 16,
     "metadata": {},
     "output_type": "execute_result"
    }
   ],
   "source": [
    "p_2t=p_value[1]\n",
    "p_2t            # 2-tail probability"
   ]
  },
  {
   "cell_type": "code",
   "execution_count": 17,
   "metadata": {},
   "outputs": [
    {
     "data": {
      "text/plain": [
       "0.029265164842448826"
      ]
     },
     "execution_count": 17,
     "metadata": {},
     "output_type": "execute_result"
    }
   ],
   "source": [
    "p_1t=p_2t/2     # 1-tail probability\n",
    "p_1t            # compare this value with α = 0.05"
   ]
  },
  {
   "cell_type": "code",
   "execution_count": null,
   "metadata": {},
   "outputs": [],
   "source": []
  },
  {
   "cell_type": "markdown",
   "metadata": {},
   "source": [
    "# Two Sample Two Tail test"
   ]
  },
  {
   "cell_type": "markdown",
   "metadata": {},
   "source": [
    "6 subjects were given a drug (treatment group) and an additional 6 subjects a placebo (control group). \n",
    "Their reaction time to a stimulus was measured (in ms).\n",
    "We want to perform a Two-sample t-test for comparing the means of the treatment and control groups .\n",
    "\n",
    "Control : 91,87,99,77,88,91\n",
    "\n",
    "Treat : 101,110,103,93,99,104"
   ]
  },
  {
   "cell_type": "markdown",
   "metadata": {},
   "source": [
    "Note: This python code states both 2-sample 1-tail and 2-sample 2-tail codes\n",
    "\n",
    "Treatment group mean is Mu1 Contrl group mean is Mu2 2-sample 2-tail ttest Assume Null Hypothesis Ho as Mu1 = Mu2 Thus Alternate Hypothesis Ha as Mu1 ≠ Mu2\n",
    "\n",
    "As No direct code for 2-sample 1-tail ttest available with unknown SD and arrays of means\n",
    "\n",
    "Hence we find probability using 2-sample 2-tail ttest and divide it by 2 to get 1-tail ttest\n",
    "\n",
    "Inference: Since (p-value = 0.0062) < (α = 0.05); Reject Null Hypothesis i.e. Mu1 ≠ Mu2 Placebo control is not similar to Treatment by drugs"
   ]
  },
  {
   "cell_type": "code",
   "execution_count": null,
   "metadata": {},
   "outputs": [],
   "source": []
  },
  {
   "cell_type": "code",
   "execution_count": 18,
   "metadata": {},
   "outputs": [],
   "source": [
    "import pandas as pd\n",
    "import numpy as np\n",
    "from scipy import stats\n",
    "from scipy.stats import norm"
   ]
  },
  {
   "cell_type": "code",
   "execution_count": 19,
   "metadata": {},
   "outputs": [],
   "source": [
    "Treat=pd.Series([101,110,103,93,99,104])\n",
    "Control=pd.Series([91,87,99,77,88,91])\n"
   ]
  },
  {
   "cell_type": "code",
   "execution_count": 20,
   "metadata": {},
   "outputs": [],
   "source": [
    "# As No direct code for 2-sample 1-tail ttest available with unknown SD and arrays of means\n",
    "# Hence we find probability using 2-sample 2-tail ttest and divide it by 2 to get 1-tail ttest"
   ]
  },
  {
   "cell_type": "code",
   "execution_count": 21,
   "metadata": {},
   "outputs": [
    {
     "data": {
      "text/plain": [
       "Ttest_indResult(statistic=3.445612673536487, pvalue=0.006272124350809803)"
      ]
     },
     "execution_count": 21,
     "metadata": {},
     "output_type": "execute_result"
    }
   ],
   "source": [
    "# 2-sample 2-tail ttest:   stats.ttest_ind(array1,array2)     # ind -> independent samples\n",
    "p_value=stats.ttest_ind(Treat,Control)\n",
    "p_value"
   ]
  },
  {
   "cell_type": "code",
   "execution_count": 22,
   "metadata": {},
   "outputs": [
    {
     "data": {
      "text/plain": [
       "0.006272124350809803"
      ]
     },
     "execution_count": 22,
     "metadata": {},
     "output_type": "execute_result"
    }
   ],
   "source": [
    "p_value[1]     # 2-tail probability (And if 1-tail probability required, divide this value by 2)"
   ]
  },
  {
   "cell_type": "code",
   "execution_count": 23,
   "metadata": {},
   "outputs": [],
   "source": [
    "# compare p_value with α = 0.05"
   ]
  },
  {
   "cell_type": "code",
   "execution_count": 24,
   "metadata": {},
   "outputs": [
    {
     "data": {
      "text/plain": [
       "4"
      ]
     },
     "execution_count": 24,
     "metadata": {},
     "output_type": "execute_result"
    }
   ],
   "source": [
    "round(np.sqrt(20))"
   ]
  },
  {
   "cell_type": "code",
   "execution_count": null,
   "metadata": {},
   "outputs": [],
   "source": []
  },
  {
   "cell_type": "markdown",
   "metadata": {},
   "source": [
    "# 2 Proportion T- Test"
   ]
  },
  {
   "cell_type": "markdown",
   "metadata": {},
   "source": [
    "Usecase : Is there any significant difference between the Population Proportion of State 1 and State 2 who report that they have benn placed immediately after education ?\n",
    "\n",
    "Population :   All Students who have completed graduation and Post graduation in both states.\n",
    "    \n",
    "Parameter of Interest :   p1 -- p2 where p1 = state 1 and p2 = state2\n",
    "    \n",
    "Data :   247 students from state 1:   36.8% of Students report that they have got the job.\n",
    "\n",
    "         308 students from state 2:38.9% of students report that they have got the job.\n",
    "        \n",
    "Hypothesis Definition : Null Hypothesis :  p1 - p2 = 0\n",
    "\n",
    "                      Alternative Hypothesis:  p1 - p2 =! 0\n",
    "    \n",
    "    "
   ]
  },
  {
   "cell_type": "code",
   "execution_count": null,
   "metadata": {},
   "outputs": [],
   "source": []
  },
  {
   "cell_type": "markdown",
   "metadata": {},
   "source": [
    "2 Proportion ttest (comparing percentages)\n",
    "\n",
    "Assume Null Hypothesis as Ho is p1-p2 = 0 i.e. p1 ≠ p2. Thus Alternate Hypthesis as Ha is p1 = p2.\n",
    "\n",
    "Explanation of bernoulli Binomial RV: np.random.binomial(n=1,p,size) Suppose you perform an experiment with two possible outcomes: either success or failure. Success happens with probability p, while failure happens with probability 1-p. A random variable that takes value 1 in case of success and 0 in case of failure is called a Bernoulli random variable. Here, n = 1, Because you need to check whether it is success or failure one time (Placement or not-placement) (1 trial) p = probability of success size = number of times you will check this (Ex: for 247 students each one time = 247) Explanation of Binomial RV: np.random.binomial(n=1,p,size) (Incase of not a Bernoulli RV, n = number of trials) For egs: check how many times you will get six if you roll a dice 10 times n=10, P=1/6 and size = repetition of experiment 'dice rolled 10 times', say repeated 18 times, then size=18.\n",
    "\n",
    "As (p_value=0.7255) > (α = 0.05); Accept Null Hypothesis i.e. p1 ≠ p2 There is significant differnce in population proportions of state1 and state2 who report that they have been placed immediately after education."
   ]
  },
  {
   "cell_type": "code",
   "execution_count": null,
   "metadata": {},
   "outputs": [],
   "source": []
  },
  {
   "cell_type": "code",
   "execution_count": 25,
   "metadata": {},
   "outputs": [],
   "source": [
    "import pandas as pd\n",
    "import numpy as np\n",
    "import statsmodels.api as sm"
   ]
  },
  {
   "cell_type": "code",
   "execution_count": 26,
   "metadata": {},
   "outputs": [],
   "source": [
    "n1=247; p1=0.37 # state1\n",
    "n2=308; p2=0.39 # state2"
   ]
  },
  {
   "cell_type": "code",
   "execution_count": 27,
   "metadata": {},
   "outputs": [],
   "source": [
    "# Generate Bernoulli random numbers arrays for both the states "
   ]
  },
  {
   "cell_type": "code",
   "execution_count": 28,
   "metadata": {},
   "outputs": [
    {
     "data": {
      "text/plain": [
       "array([1, 1, 0, 0, 0, 0, 1, 1, 0, 0, 1, 0, 1, 0, 0, 0, 0, 0, 1, 1, 1, 0,\n",
       "       0, 1, 0, 0, 0, 1, 1, 0, 0, 0, 0, 0, 1, 0, 0, 1, 0, 0, 1, 1, 0, 0,\n",
       "       0, 1, 0, 0, 0, 1, 0, 0, 0, 0, 1, 0, 1, 1, 0, 0, 0, 0, 1, 0, 1, 1,\n",
       "       0, 0, 0, 0, 0, 0, 0, 0, 1, 1, 1, 0, 0, 0, 1, 0, 1, 0, 1, 0, 0, 0,\n",
       "       0, 1, 0, 0, 0, 0, 0, 0, 1, 0, 1, 1, 0, 0, 1, 0, 0, 1, 1, 0, 0, 0,\n",
       "       0, 1, 0, 0, 0, 1, 0, 0, 0, 1, 1, 1, 0, 0, 1, 0, 0, 1, 0, 1, 1, 0,\n",
       "       1, 0, 0, 1, 0, 1, 1, 1, 0, 1, 1, 0, 0, 1, 0, 0, 0, 0, 1, 0, 1, 0,\n",
       "       1, 0, 0, 0, 0, 0, 0, 1, 0, 1, 0, 0, 0, 0, 0, 0, 0, 0, 0, 0, 0, 1,\n",
       "       1, 0, 0, 1, 0, 0, 1, 0, 1, 0, 0, 0, 1, 0, 0, 0, 0, 0, 1, 0, 0, 0,\n",
       "       1, 1, 1, 0, 0, 0, 0, 1, 0, 1, 0, 0, 1, 1, 1, 0, 1, 0, 1, 1, 0, 0,\n",
       "       0, 0, 1, 1, 0, 1, 0, 1, 0, 1, 0, 0, 0, 0, 1, 0, 1, 0, 1, 0, 1, 0,\n",
       "       1, 0, 0, 0, 0])"
      ]
     },
     "execution_count": 28,
     "metadata": {},
     "output_type": "execute_result"
    }
   ],
   "source": [
    "state1=np.random.binomial(n=1,p=p1,size=n1)\n",
    "state1"
   ]
  },
  {
   "cell_type": "code",
   "execution_count": 29,
   "metadata": {},
   "outputs": [
    {
     "data": {
      "text/plain": [
       "array([0, 1, 1, 0, 0, 1, 1, 1, 0, 1, 1, 0, 0, 0, 1, 0, 1, 1, 0, 0, 1, 0,\n",
       "       0, 1, 1, 0, 0, 0, 1, 1, 1, 0, 1, 1, 1, 0, 0, 1, 0, 1, 1, 0, 1, 0,\n",
       "       0, 1, 0, 0, 0, 0, 1, 0, 0, 1, 1, 0, 1, 1, 0, 1, 1, 0, 1, 1, 1, 1,\n",
       "       0, 0, 0, 0, 1, 0, 0, 1, 0, 0, 1, 1, 1, 1, 1, 0, 1, 0, 0, 0, 1, 1,\n",
       "       1, 0, 0, 0, 0, 0, 1, 1, 0, 1, 0, 1, 1, 1, 1, 0, 0, 0, 0, 0, 1, 0,\n",
       "       0, 1, 1, 1, 0, 1, 1, 0, 0, 0, 0, 0, 0, 1, 0, 1, 1, 0, 1, 0, 0, 0,\n",
       "       1, 1, 0, 1, 1, 1, 0, 1, 0, 1, 1, 1, 1, 0, 0, 0, 0, 0, 0, 0, 1, 0,\n",
       "       1, 0, 1, 1, 1, 1, 1, 0, 1, 0, 0, 1, 0, 1, 0, 1, 0, 0, 1, 1, 1, 1,\n",
       "       0, 0, 1, 1, 0, 1, 0, 1, 0, 0, 0, 1, 1, 0, 0, 1, 0, 0, 0, 0, 1, 0,\n",
       "       1, 1, 0, 0, 0, 0, 1, 0, 0, 1, 0, 0, 0, 0, 1, 1, 1, 1, 1, 0, 0, 0,\n",
       "       0, 1, 0, 0, 0, 0, 0, 1, 0, 0, 0, 0, 0, 0, 0, 0, 1, 1, 0, 1, 1, 1,\n",
       "       1, 0, 1, 0, 0, 1, 0, 1, 1, 1, 0, 1, 0, 1, 0, 0, 1, 0, 0, 0, 0, 1,\n",
       "       0, 0, 1, 0, 0, 1, 0, 1, 0, 0, 0, 0, 0, 0, 1, 0, 0, 1, 1, 1, 1, 0,\n",
       "       0, 0, 1, 0, 0, 0, 0, 1, 1, 0, 1, 0, 0, 1, 0, 1, 1, 1, 0, 1, 0, 0])"
      ]
     },
     "execution_count": 29,
     "metadata": {},
     "output_type": "execute_result"
    }
   ],
   "source": [
    "state2=np.random.binomial(n=1,p=p2,size=n2)\n",
    "state2"
   ]
  },
  {
   "cell_type": "code",
   "execution_count": 30,
   "metadata": {},
   "outputs": [],
   "source": [
    "# 2 proportion ttest:   sm.stats.ttest_ind(array1,array2)"
   ]
  },
  {
   "cell_type": "code",
   "execution_count": 31,
   "metadata": {},
   "outputs": [
    {
     "data": {
      "text/plain": [
       "(-2.36851870320759, 0.018202264694550392, 553.0)"
      ]
     },
     "execution_count": 31,
     "metadata": {},
     "output_type": "execute_result"
    }
   ],
   "source": [
    "p_value=sm.stats.ttest_ind(state1,state2)\n",
    "p_value"
   ]
  },
  {
   "cell_type": "code",
   "execution_count": 32,
   "metadata": {},
   "outputs": [],
   "source": [
    "# here o/p is (t-stats value, probability value, degrees of freedom)"
   ]
  },
  {
   "cell_type": "code",
   "execution_count": 33,
   "metadata": {},
   "outputs": [
    {
     "data": {
      "text/plain": [
       "0.018202264694550392"
      ]
     },
     "execution_count": 33,
     "metadata": {},
     "output_type": "execute_result"
    }
   ],
   "source": [
    "p_value[1]"
   ]
  },
  {
   "cell_type": "code",
   "execution_count": 34,
   "metadata": {},
   "outputs": [],
   "source": [
    "# comparing p_value with α = 0.05"
   ]
  },
  {
   "cell_type": "code",
   "execution_count": 35,
   "metadata": {},
   "outputs": [],
   "source": [
    "# Additionaly, if we want to find means"
   ]
  },
  {
   "cell_type": "code",
   "execution_count": 36,
   "metadata": {},
   "outputs": [
    {
     "data": {
      "text/plain": [
       "0.3522267206477733"
      ]
     },
     "execution_count": 36,
     "metadata": {},
     "output_type": "execute_result"
    }
   ],
   "source": [
    "state1.mean()"
   ]
  },
  {
   "cell_type": "code",
   "execution_count": 37,
   "metadata": {},
   "outputs": [
    {
     "data": {
      "text/plain": [
       "0.4512987012987013"
      ]
     },
     "execution_count": 37,
     "metadata": {},
     "output_type": "execute_result"
    }
   ],
   "source": [
    "state2.mean()"
   ]
  },
  {
   "cell_type": "code",
   "execution_count": null,
   "metadata": {},
   "outputs": [],
   "source": []
  }
 ],
 "metadata": {
  "kernelspec": {
   "display_name": "Python 3",
   "language": "python",
   "name": "python3"
  },
  "language_info": {
   "codemirror_mode": {
    "name": "ipython",
    "version": 3
   },
   "file_extension": ".py",
   "mimetype": "text/x-python",
   "name": "python",
   "nbconvert_exporter": "python",
   "pygments_lexer": "ipython3",
   "version": "3.8.8"
  }
 },
 "nbformat": 4,
 "nbformat_minor": 2
}
